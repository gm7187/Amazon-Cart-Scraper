{
 "cells": [
  {
   "cell_type": "markdown",
   "id": "a184ac3c",
   "metadata": {},
   "source": [
    "# Scrape Amazon Cart items Detail\n",
    "\n",
    "- Technologies:  Requests, Beautifulsoup, Pandas, ExcelWriter, sqlite3, browser_cookie3"
   ]
  },
  {
   "cell_type": "code",
   "execution_count": 64,
   "id": "a08fcf06",
   "metadata": {},
   "outputs": [
    {
     "name": "stdout",
     "output_type": "stream",
     "text": [
      "resp text contains shopping cart data\n"
     ]
    }
   ],
   "source": [
    "import browser_cookie3\n",
    "import requests\n",
    "from pandas import ExcelWriter\n",
    "import pandas as pd\n",
    "import sqlite3\n",
    "from bs4 import BeautifulSoup\n",
    "\n",
    "cookies = browser_cookie3.chrome(domain_name='.amazon.com')\n",
    "headers = {\n",
    "    'User-Agent': 'Mozilla/5.0 (Windows NT 10.0; Win64; x64) AppleWebKit/537.36 (KHTML, like Gecko) Chrome/92.0.4515.107 Safari/537.36'\n",
    "}\n",
    "\n",
    "with requests.session() as s:\n",
    "    s.cookies = cookies\n",
    "    s.headers = headers\n",
    "    url = 'https://www.amazon.com/gp/cart/view.html?ref_=nav_cart'\n",
    "\n",
    "    resp = s.get(url)\n",
    "    print('resp text contains shopping cart data')"
   ]
  },
  {
   "cell_type": "code",
   "execution_count": 65,
   "id": "cc46a32c",
   "metadata": {},
   "outputs": [
    {
     "data": {
      "text/plain": [
       "['https://www.amazon.com/gp/product/1491957662',\n",
       " 'https://www.amazon.com/gp/product/1491920513',\n",
       " 'https://www.amazon.com/gp/product/1484265750',\n",
       " 'https://www.amazon.com/gp/product/1492055026',\n",
       " 'https://www.amazon.com/gp/product/1449355730',\n",
       " 'https://www.amazon.com/gp/product/1593279280',\n",
       " 'https://www.amazon.com/gp/product/1491991739',\n",
       " 'https://www.amazon.com/gp/product/1789951291',\n",
       " 'https://www.amazon.com/gp/product/1787285219',\n",
       " 'https://www.amazon.com/gp/product/1491985046',\n",
       " 'https://www.amazon.com/gp/product/1786462583']"
      ]
     },
     "execution_count": 65,
     "metadata": {},
     "output_type": "execute_result"
    }
   ],
   "source": [
    "soup = BeautifulSoup(resp.content,'html.parser')\n",
    "data_asins = soup.find_all('div',{'class': 'a-row sc-list-item sc-java-remote-feature'})\n",
    "baseurl = 'https://www.amazon.com/gp/product/'\n",
    "asin_list=[baseurl+ asin['data-asin'] for asin in data_asins]\n",
    "asin_list"
   ]
  },
  {
   "cell_type": "code",
   "execution_count": 66,
   "id": "cd40f9bf",
   "metadata": {},
   "outputs": [],
   "source": [
    "def get_items_webpage(url):\n",
    "    HEADERS = {'User-Agent':'Mozilla/5.0 (X11; Linux x86_64) AppleWebKit/537.36 (KHTML, like Gecko) Chrome/92.0.4515.107 Safari/537.36','Accept-Language': 'en-US, en;q=0.5'}\n",
    "    webpage = requests.get(url, headers=HEADERS)\n",
    "    soup = BeautifulSoup(webpage.content, \"lxml\")\n",
    "    return soup"
   ]
  },
  {
   "cell_type": "code",
   "execution_count": 67,
   "id": "1d792667",
   "metadata": {},
   "outputs": [],
   "source": [
    "def get_item_detail(item_url):\n",
    "    soup=get_items_webpage(item_url)\n",
    "    mobile_title=soup.find('span',{'id':'productTitle'})\n",
    "    title=mobile_title.text.strip()\n",
    "    \n",
    "    mobile_price=soup.find('div',{'class':'a-column a-span6 a-text-right a-span-last'})\n",
    "    price=mobile_price.text.strip()\n",
    "    \n",
    "    \n",
    "    mobile_imgs=soup.find('div',{'id':'mainImageContainer'})\n",
    "    imgurl=mobile_imgs.img['src']\n",
    "           \n",
    "    return title,price,imgurl"
   ]
  },
  {
   "cell_type": "code",
   "execution_count": 70,
   "id": "baac932d",
   "metadata": {},
   "outputs": [
    {
     "data": {
      "text/plain": [
       "('Mining the Social Web: Data Mining Facebook, Twitter, LinkedIn, Instagram, GitHub, and More',\n",
       " '$32.99',\n",
       " 'https://images-na.ssl-images-amazon.com/images/I/51HTwPZsE3L._SX218_BO1,204,203,200_QL40_ML2_.jpg')"
      ]
     },
     "execution_count": 70,
     "metadata": {},
     "output_type": "execute_result"
    }
   ],
   "source": [
    "get_item_detail(asin_list[9])"
   ]
  },
  {
   "cell_type": "code",
   "execution_count": 73,
   "id": "65288cdb",
   "metadata": {},
   "outputs": [],
   "source": [
    "def get_allitems_detail():\n",
    "    item_dict ={ \n",
    "        'ProductLinks': asin_list,     \n",
    "        'Title':[][:17],\n",
    "                 'Price': [],\n",
    "            'ImageLinks': [],\n",
    "           }\n",
    "\n",
    "    # Get repo info\n",
    "    for i in range(len(asin_list)):\n",
    "        item_info = get_item_detail(asin_list[i])\n",
    "        item_dict['Title'].append(item_info[0])\n",
    "        item_dict['Price'].append(item_info[1])\n",
    "        item_dict['ImageLinks'].append(item_info[2])\n",
    "        \n",
    "    return pd.DataFrame(item_dict)"
   ]
  },
  {
   "cell_type": "code",
   "execution_count": 74,
   "id": "850312ab",
   "metadata": {},
   "outputs": [
    {
     "data": {
      "text/html": [
       "<div>\n",
       "<style scoped>\n",
       "    .dataframe tbody tr th:only-of-type {\n",
       "        vertical-align: middle;\n",
       "    }\n",
       "\n",
       "    .dataframe tbody tr th {\n",
       "        vertical-align: top;\n",
       "    }\n",
       "\n",
       "    .dataframe thead th {\n",
       "        text-align: right;\n",
       "    }\n",
       "</style>\n",
       "<table border=\"1\" class=\"dataframe\">\n",
       "  <thead>\n",
       "    <tr style=\"text-align: right;\">\n",
       "      <th></th>\n",
       "      <th>ProductLinks</th>\n",
       "      <th>Title</th>\n",
       "      <th>Price</th>\n",
       "      <th>ImageLinks</th>\n",
       "    </tr>\n",
       "  </thead>\n",
       "  <tbody>\n",
       "    <tr>\n",
       "      <th>0</th>\n",
       "      <td>https://www.amazon.com/gp/product/1491957662</td>\n",
       "      <td>Python for Data Analysis: Data Wrangling with ...</td>\n",
       "      <td>$28.01</td>\n",
       "      <td>https://images-na.ssl-images-amazon.com/images...</td>\n",
       "    </tr>\n",
       "    <tr>\n",
       "      <th>1</th>\n",
       "      <td>https://www.amazon.com/gp/product/1491920513</td>\n",
       "      <td>Data Visualization with Python and JavaScript:...</td>\n",
       "      <td>$23.02</td>\n",
       "      <td>https://images-na.ssl-images-amazon.com/images...</td>\n",
       "    </tr>\n",
       "    <tr>\n",
       "      <th>2</th>\n",
       "      <td>https://www.amazon.com/gp/product/1484265750</td>\n",
       "      <td>Getting Structured Data from the Internet: Run...</td>\n",
       "      <td>$44.99</td>\n",
       "      <td>https://images-na.ssl-images-amazon.com/images...</td>\n",
       "    </tr>\n",
       "    <tr>\n",
       "      <th>3</th>\n",
       "      <td>https://www.amazon.com/gp/product/1492055026</td>\n",
       "      <td>High Performance Python: Practical Performant ...</td>\n",
       "      <td>$23.69</td>\n",
       "      <td>https://images-na.ssl-images-amazon.com/images...</td>\n",
       "    </tr>\n",
       "    <tr>\n",
       "      <th>4</th>\n",
       "      <td>https://www.amazon.com/gp/product/1449355730</td>\n",
       "      <td>Learning Python, 5th Edition</td>\n",
       "      <td>$33.86</td>\n",
       "      <td>https://images-na.ssl-images-amazon.com/images...</td>\n",
       "    </tr>\n",
       "    <tr>\n",
       "      <th>5</th>\n",
       "      <td>https://www.amazon.com/gp/product/1593279280</td>\n",
       "      <td>Python Crash Course, 2Nd Edition: A Hands-On, ...</td>\n",
       "      <td>$21.00</td>\n",
       "      <td>https://images-na.ssl-images-amazon.com/images...</td>\n",
       "    </tr>\n",
       "    <tr>\n",
       "      <th>6</th>\n",
       "      <td>https://www.amazon.com/gp/product/1491991739</td>\n",
       "      <td>Flask Web Development: Developing Web Applicat...</td>\n",
       "      <td>$28.89</td>\n",
       "      <td>https://images-na.ssl-images-amazon.com/images...</td>\n",
       "    </tr>\n",
       "    <tr>\n",
       "      <th>7</th>\n",
       "      <td>https://www.amazon.com/gp/product/1789951291</td>\n",
       "      <td>Flask Framework Cookbook: Over 80 proven recip...</td>\n",
       "      <td>$25.49</td>\n",
       "      <td>https://images-na.ssl-images-amazon.com/images...</td>\n",
       "    </tr>\n",
       "    <tr>\n",
       "      <th>8</th>\n",
       "      <td>https://www.amazon.com/gp/product/1787285219</td>\n",
       "      <td>Python Web Scraping Cookbook: Over 90 proven r...</td>\n",
       "      <td>$31.00</td>\n",
       "      <td>https://images-na.ssl-images-amazon.com/images...</td>\n",
       "    </tr>\n",
       "    <tr>\n",
       "      <th>9</th>\n",
       "      <td>https://www.amazon.com/gp/product/1491985046</td>\n",
       "      <td>Mining the Social Web: Data Mining Facebook, T...</td>\n",
       "      <td>$32.99</td>\n",
       "      <td>https://images-na.ssl-images-amazon.com/images...</td>\n",
       "    </tr>\n",
       "    <tr>\n",
       "      <th>10</th>\n",
       "      <td>https://www.amazon.com/gp/product/1786462583</td>\n",
       "      <td>Python Web Scraping: Hands-on data scraping an...</td>\n",
       "      <td>$32.55</td>\n",
       "      <td>https://images-na.ssl-images-amazon.com/images...</td>\n",
       "    </tr>\n",
       "  </tbody>\n",
       "</table>\n",
       "</div>"
      ],
      "text/plain": [
       "                                    ProductLinks  \\\n",
       "0   https://www.amazon.com/gp/product/1491957662   \n",
       "1   https://www.amazon.com/gp/product/1491920513   \n",
       "2   https://www.amazon.com/gp/product/1484265750   \n",
       "3   https://www.amazon.com/gp/product/1492055026   \n",
       "4   https://www.amazon.com/gp/product/1449355730   \n",
       "5   https://www.amazon.com/gp/product/1593279280   \n",
       "6   https://www.amazon.com/gp/product/1491991739   \n",
       "7   https://www.amazon.com/gp/product/1789951291   \n",
       "8   https://www.amazon.com/gp/product/1787285219   \n",
       "9   https://www.amazon.com/gp/product/1491985046   \n",
       "10  https://www.amazon.com/gp/product/1786462583   \n",
       "\n",
       "                                                Title   Price  \\\n",
       "0   Python for Data Analysis: Data Wrangling with ...  $28.01   \n",
       "1   Data Visualization with Python and JavaScript:...  $23.02   \n",
       "2   Getting Structured Data from the Internet: Run...  $44.99   \n",
       "3   High Performance Python: Practical Performant ...  $23.69   \n",
       "4                        Learning Python, 5th Edition  $33.86   \n",
       "5   Python Crash Course, 2Nd Edition: A Hands-On, ...  $21.00   \n",
       "6   Flask Web Development: Developing Web Applicat...  $28.89   \n",
       "7   Flask Framework Cookbook: Over 80 proven recip...  $25.49   \n",
       "8   Python Web Scraping Cookbook: Over 90 proven r...  $31.00   \n",
       "9   Mining the Social Web: Data Mining Facebook, T...  $32.99   \n",
       "10  Python Web Scraping: Hands-on data scraping an...  $32.55   \n",
       "\n",
       "                                           ImageLinks  \n",
       "0   https://images-na.ssl-images-amazon.com/images...  \n",
       "1   https://images-na.ssl-images-amazon.com/images...  \n",
       "2   https://images-na.ssl-images-amazon.com/images...  \n",
       "3   https://images-na.ssl-images-amazon.com/images...  \n",
       "4   https://images-na.ssl-images-amazon.com/images...  \n",
       "5   https://images-na.ssl-images-amazon.com/images...  \n",
       "6   https://images-na.ssl-images-amazon.com/images...  \n",
       "7   https://images-na.ssl-images-amazon.com/images...  \n",
       "8   https://images-na.ssl-images-amazon.com/images...  \n",
       "9   https://images-na.ssl-images-amazon.com/images...  \n",
       "10  https://images-na.ssl-images-amazon.com/images...  "
      ]
     },
     "execution_count": 74,
     "metadata": {},
     "output_type": "execute_result"
    }
   ],
   "source": [
    "\n",
    "get_allitems_detail()\n",
    "    "
   ]
  },
  {
   "cell_type": "markdown",
   "id": "b515dd51",
   "metadata": {},
   "source": [
    "## Saving to ExcelSheet"
   ]
  },
  {
   "cell_type": "code",
   "execution_count": 76,
   "id": "326e8ae7",
   "metadata": {},
   "outputs": [],
   "source": [
    "writer = ExcelWriter('AmazonCartItems.xlsx')\n",
    "get_allitems_detail().to_excel(writer,'Sheet5')\n",
    "writer.save()"
   ]
  },
  {
   "cell_type": "markdown",
   "id": "82aa3cf2",
   "metadata": {},
   "source": [
    "## Saving to Database"
   ]
  },
  {
   "cell_type": "code",
   "execution_count": 77,
   "id": "622073aa",
   "metadata": {},
   "outputs": [],
   "source": [
    "conn = sqlite3.connect('CartDb.db')\n",
    "c = conn.cursor()\n",
    "c.execute('''CREATE TABLE Mobiles( ProductLinks TEXT, Title TEXT, Price TEXT, ImageLinks TEXT )''')\n",
    "data=get_allitems_detail()\n",
    "data.to_sql('SA', conn, if_exists='replace', index=False) # - writes the pd.df to SQLIte DB\n",
    "pd.read_sql('select * from Mobiles', conn)\n",
    "conn.commit()\n",
    "conn.close()"
   ]
  }
 ],
 "metadata": {
  "kernelspec": {
   "display_name": "Python 3",
   "language": "python",
   "name": "python3"
  },
  "language_info": {
   "codemirror_mode": {
    "name": "ipython",
    "version": 3
   },
   "file_extension": ".py",
   "mimetype": "text/x-python",
   "name": "python",
   "nbconvert_exporter": "python",
   "pygments_lexer": "ipython3",
   "version": "3.8.10"
  }
 },
 "nbformat": 4,
 "nbformat_minor": 5
}
